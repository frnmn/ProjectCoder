{
 "cells": [
  {
   "cell_type": "code",
   "execution_count": 1,
   "metadata": {},
   "outputs": [],
   "source": [
    "import pandas as pd \n",
    "import psycopg2\n",
    "import yfinance as yf "
   ]
  },
  {
   "cell_type": "code",
   "execution_count": 11,
   "metadata": {},
   "outputs": [
    {
     "data": {
      "text/plain": [
       "Index(['Open', 'High', 'Low', 'Close', 'Volume', 'Dividends', 'Stock Splits',\n",
       "       'Date'],\n",
       "      dtype='object')"
      ]
     },
     "execution_count": 11,
     "metadata": {},
     "output_type": "execute_result"
    }
   ],
   "source": [
    "goo = yf.Ticker(\"AAPL\")\n",
    "hist = goo.history(period=\"1y\") #Elegir desde el año pasado para atrás\n",
    "hist[\"Date\"]=hist.index\n",
    "hist=hist.reset_index(drop=True)\n",
    "hist.columns"
   ]
  },
  {
   "cell_type": "code",
   "execution_count": 24,
   "metadata": {},
   "outputs": [],
   "source": [
    "hist=hist.rename(columns={\"Open\":\"O\", \"Close\":\"C\", \"Stock Splits\": \"Stock_Splits\" })"
   ]
  },
  {
   "cell_type": "code",
   "execution_count": 25,
   "metadata": {},
   "outputs": [
    {
     "data": {
      "text/html": [
       "<div>\n",
       "<style scoped>\n",
       "    .dataframe tbody tr th:only-of-type {\n",
       "        vertical-align: middle;\n",
       "    }\n",
       "\n",
       "    .dataframe tbody tr th {\n",
       "        vertical-align: top;\n",
       "    }\n",
       "\n",
       "    .dataframe thead th {\n",
       "        text-align: right;\n",
       "    }\n",
       "</style>\n",
       "<table border=\"1\" class=\"dataframe\">\n",
       "  <thead>\n",
       "    <tr style=\"text-align: right;\">\n",
       "      <th></th>\n",
       "      <th>O</th>\n",
       "      <th>High</th>\n",
       "      <th>Low</th>\n",
       "      <th>C</th>\n",
       "      <th>Volume</th>\n",
       "      <th>Dividends</th>\n",
       "      <th>Stock_Splits</th>\n",
       "      <th>Date</th>\n",
       "    </tr>\n",
       "  </thead>\n",
       "  <tbody>\n",
       "    <tr>\n",
       "      <th>0</th>\n",
       "      <td>137.394939</td>\n",
       "      <td>142.226278</td>\n",
       "      <td>136.878001</td>\n",
       "      <td>141.609924</td>\n",
       "      <td>114311700</td>\n",
       "      <td>0.0</td>\n",
       "      <td>0.0</td>\n",
       "      <td>2022-10-03 00:00:00-04:00</td>\n",
       "    </tr>\n",
       "    <tr>\n",
       "      <th>1</th>\n",
       "      <td>144.174691</td>\n",
       "      <td>145.357676</td>\n",
       "      <td>143.409228</td>\n",
       "      <td>145.238388</td>\n",
       "      <td>87830100</td>\n",
       "      <td>0.0</td>\n",
       "      <td>0.0</td>\n",
       "      <td>2022-10-04 00:00:00-04:00</td>\n",
       "    </tr>\n",
       "    <tr>\n",
       "      <th>2</th>\n",
       "      <td>143.220375</td>\n",
       "      <td>146.510853</td>\n",
       "      <td>142.166614</td>\n",
       "      <td>145.536621</td>\n",
       "      <td>79471000</td>\n",
       "      <td>0.0</td>\n",
       "      <td>0.0</td>\n",
       "      <td>2022-10-05 00:00:00-04:00</td>\n",
       "    </tr>\n",
       "    <tr>\n",
       "      <th>3</th>\n",
       "      <td>144.950090</td>\n",
       "      <td>146.669884</td>\n",
       "      <td>144.363574</td>\n",
       "      <td>144.572327</td>\n",
       "      <td>68402200</td>\n",
       "      <td>0.0</td>\n",
       "      <td>0.0</td>\n",
       "      <td>2022-10-06 00:00:00-04:00</td>\n",
       "    </tr>\n",
       "    <tr>\n",
       "      <th>4</th>\n",
       "      <td>141.699388</td>\n",
       "      <td>142.256098</td>\n",
       "      <td>138.627615</td>\n",
       "      <td>139.263840</td>\n",
       "      <td>85925600</td>\n",
       "      <td>0.0</td>\n",
       "      <td>0.0</td>\n",
       "      <td>2022-10-07 00:00:00-04:00</td>\n",
       "    </tr>\n",
       "    <tr>\n",
       "      <th>...</th>\n",
       "      <td>...</td>\n",
       "      <td>...</td>\n",
       "      <td>...</td>\n",
       "      <td>...</td>\n",
       "      <td>...</td>\n",
       "      <td>...</td>\n",
       "      <td>...</td>\n",
       "      <td>...</td>\n",
       "    </tr>\n",
       "    <tr>\n",
       "      <th>246</th>\n",
       "      <td>174.820007</td>\n",
       "      <td>175.199997</td>\n",
       "      <td>171.660004</td>\n",
       "      <td>171.960007</td>\n",
       "      <td>64588900</td>\n",
       "      <td>0.0</td>\n",
       "      <td>0.0</td>\n",
       "      <td>2023-09-26 00:00:00-04:00</td>\n",
       "    </tr>\n",
       "    <tr>\n",
       "      <th>247</th>\n",
       "      <td>172.619995</td>\n",
       "      <td>173.039993</td>\n",
       "      <td>169.050003</td>\n",
       "      <td>170.429993</td>\n",
       "      <td>66921800</td>\n",
       "      <td>0.0</td>\n",
       "      <td>0.0</td>\n",
       "      <td>2023-09-27 00:00:00-04:00</td>\n",
       "    </tr>\n",
       "    <tr>\n",
       "      <th>248</th>\n",
       "      <td>169.339996</td>\n",
       "      <td>172.029999</td>\n",
       "      <td>167.619995</td>\n",
       "      <td>170.690002</td>\n",
       "      <td>56294400</td>\n",
       "      <td>0.0</td>\n",
       "      <td>0.0</td>\n",
       "      <td>2023-09-28 00:00:00-04:00</td>\n",
       "    </tr>\n",
       "    <tr>\n",
       "      <th>249</th>\n",
       "      <td>172.020004</td>\n",
       "      <td>173.070007</td>\n",
       "      <td>170.339996</td>\n",
       "      <td>171.210007</td>\n",
       "      <td>51814200</td>\n",
       "      <td>0.0</td>\n",
       "      <td>0.0</td>\n",
       "      <td>2023-09-29 00:00:00-04:00</td>\n",
       "    </tr>\n",
       "    <tr>\n",
       "      <th>250</th>\n",
       "      <td>171.220001</td>\n",
       "      <td>174.300003</td>\n",
       "      <td>171.000000</td>\n",
       "      <td>173.750000</td>\n",
       "      <td>50897710</td>\n",
       "      <td>0.0</td>\n",
       "      <td>0.0</td>\n",
       "      <td>2023-10-02 00:00:00-04:00</td>\n",
       "    </tr>\n",
       "  </tbody>\n",
       "</table>\n",
       "<p>251 rows × 8 columns</p>\n",
       "</div>"
      ],
      "text/plain": [
       "              O        High         Low           C     Volume  Dividends  \\\n",
       "0    137.394939  142.226278  136.878001  141.609924  114311700        0.0   \n",
       "1    144.174691  145.357676  143.409228  145.238388   87830100        0.0   \n",
       "2    143.220375  146.510853  142.166614  145.536621   79471000        0.0   \n",
       "3    144.950090  146.669884  144.363574  144.572327   68402200        0.0   \n",
       "4    141.699388  142.256098  138.627615  139.263840   85925600        0.0   \n",
       "..          ...         ...         ...         ...        ...        ...   \n",
       "246  174.820007  175.199997  171.660004  171.960007   64588900        0.0   \n",
       "247  172.619995  173.039993  169.050003  170.429993   66921800        0.0   \n",
       "248  169.339996  172.029999  167.619995  170.690002   56294400        0.0   \n",
       "249  172.020004  173.070007  170.339996  171.210007   51814200        0.0   \n",
       "250  171.220001  174.300003  171.000000  173.750000   50897710        0.0   \n",
       "\n",
       "     Stock_Splits                      Date  \n",
       "0             0.0 2022-10-03 00:00:00-04:00  \n",
       "1             0.0 2022-10-04 00:00:00-04:00  \n",
       "2             0.0 2022-10-05 00:00:00-04:00  \n",
       "3             0.0 2022-10-06 00:00:00-04:00  \n",
       "4             0.0 2022-10-07 00:00:00-04:00  \n",
       "..            ...                       ...  \n",
       "246           0.0 2023-09-26 00:00:00-04:00  \n",
       "247           0.0 2023-09-27 00:00:00-04:00  \n",
       "248           0.0 2023-09-28 00:00:00-04:00  \n",
       "249           0.0 2023-09-29 00:00:00-04:00  \n",
       "250           0.0 2023-10-02 00:00:00-04:00  \n",
       "\n",
       "[251 rows x 8 columns]"
      ]
     },
     "execution_count": 25,
     "metadata": {},
     "output_type": "execute_result"
    }
   ],
   "source": [
    "hist #Data a traspasar a redshift "
   ]
  },
  {
   "cell_type": "code",
   "execution_count": 26,
   "metadata": {},
   "outputs": [
    {
     "data": {
      "text/plain": [
       "Index(['O', 'High', 'Low', 'C', 'Volume', 'Dividends', 'Stock_Splits', 'Date'], dtype='object')"
      ]
     },
     "execution_count": 26,
     "metadata": {},
     "output_type": "execute_result"
    }
   ],
   "source": [
    "hist.columns"
   ]
  },
  {
   "cell_type": "markdown",
   "metadata": {},
   "source": [
    "CREATE TABLE AAPL_PRICES (\n",
    "    O DECIMAL(10, 2),\n",
    "    High DECIMAL(10, 2),\n",
    "    Low DECIMAL(10, 2),\n",
    "    C DECIMAL(10, 2),\n",
    "    Volume BIGINT,\n",
    "    Dividends DECIMAL(10, 2),\n",
    "    Stock_Splits DECIMAL(10, 2),\n",
    "    Date TIMESTAMP\n",
    ");"
   ]
  },
  {
   "cell_type": "code",
   "execution_count": 28,
   "metadata": {},
   "outputs": [
    {
     "name": "stdout",
     "output_type": "stream",
     "text": [
      "Connected to Redshift successfully!\n"
     ]
    }
   ],
   "source": [
    "#Conexión a RedShift \n",
    "try:\n",
    "    conn= psycopg2.connect(\n",
    "        host = \"data-engineer-cluster.cyhh5bfevlmn.us-east-1.redshift.amazonaws.com\",\n",
    "        dbname= \"data-engineer-database\",\n",
    "        user=\"frnmn20_coderhouse\",\n",
    "        password= \"3076WtdbVk\",\n",
    "        port= \"5439\"\n",
    "    )\n",
    "    print (\"Connected to Redshift successfully!\")\n",
    "except Exception as e:\n",
    "    print(\"Unable to connect to Redshift.\")\n",
    "    print(e)"
   ]
  },
  {
   "cell_type": "code",
   "execution_count": 29,
   "metadata": {},
   "outputs": [
    {
     "data": {
      "text/plain": [
       "<function cursor.fetchall>"
      ]
     },
     "execution_count": 29,
     "metadata": {},
     "output_type": "execute_result"
    }
   ],
   "source": [
    "cur = conn.cursor()\n",
    "cur.execute(\"select *from aapl_prices\")\n",
    "results= cur.fetchall\n",
    "results"
   ]
  },
  {
   "cell_type": "code",
   "execution_count": 30,
   "metadata": {},
   "outputs": [],
   "source": [
    "from psycopg2.extras import execute_values\n",
    "cur = conn.cursor()\n",
    "table_name= \"aapl_prices\"\n",
    "columns = ['O', 'High', 'Low', 'C', 'Volume', 'Dividends', 'Stock_Splits', 'Date']\n",
    "values = [tuple(x) for x in hist.to_numpy()]\n",
    "insert_sql = f\"INSERT INTO {table_name} ({', '.join(columns)}) VALUES %s\"\n",
    "cur.execute(\"BEGIN\")\n",
    "execute_values(cur, insert_sql, values)\n",
    "cur.execute(\"COMMIT\")"
   ]
  },
  {
   "cell_type": "markdown",
   "metadata": {},
   "source": [
    "select *from aapl_prices "
   ]
  }
 ],
 "metadata": {
  "kernelspec": {
   "display_name": "Python 3",
   "language": "python",
   "name": "python3"
  },
  "language_info": {
   "codemirror_mode": {
    "name": "ipython",
    "version": 3
   },
   "file_extension": ".py",
   "mimetype": "text/x-python",
   "name": "python",
   "nbconvert_exporter": "python",
   "pygments_lexer": "ipython3",
   "version": "3.10.8"
  },
  "orig_nbformat": 4
 },
 "nbformat": 4,
 "nbformat_minor": 2
}
